{
 "cells": [
  {
   "cell_type": "code",
   "execution_count": null,
   "metadata": {
    "id": "_97xDKI6kZGD"
   },
   "outputs": [],
   "source": [
    "# 먼저 경로 변경\n",
    "import os\n",
    "\n",
    "os.chdir(\"/content/drive/MyDrive/Colab Notebooks\")"
   ]
  },
  {
   "cell_type": "code",
   "execution_count": null,
   "metadata": {
    "id": "CIt4rRVM0viW"
   },
   "outputs": [],
   "source": [
    "# 일반담배와 전자담배흡연율 추이 불러오기\n",
    "import pandas as pd\n",
    "\n",
    "elect_data = pd.read_csv('액상형전자담배.csv', index_col=0).dropna().reset_index(drop=True)\n",
    "nomal_data = pd.read_csv('일반담배.csv', index_col=0).dropna().reset_index(drop=True)\n",
    "# 전체흡연율만 필요해서 슬라이싱함\n",
    "nd = nomal_data.iloc[2][2:]\n",
    "ed = elect_data.iloc[2][2:]\n",
    "\n",
    "new_smoke = pd.concat([nd.astype(float),ed.astype(float)],axis=1) # 그래프 2개 합침\n",
    "# 증감률 추이를 보여주기위해 diff, 그것을 누적으로 보여주기위해 cumsum사용\n",
    "new_smoke = new_smoke.diff(axis=0).cumsum()"
   ]
  },
  {
   "cell_type": "code",
   "execution_count": null,
   "metadata": {
    "colab": {
     "base_uri": "https://localhost:8080/",
     "height": 467
    },
    "executionInfo": {
     "elapsed": 606,
     "status": "ok",
     "timestamp": 1735483547192,
     "user": {
      "displayName": "이이장헌",
      "userId": "14213878762227846915"
     },
     "user_tz": -540
    },
    "id": "BLUbjCXx081f",
    "outputId": "fe5855c2-ba0e-44cd-c064-2facac528ac2"
   },
   "outputs": [],
   "source": [
    "# 일반 담배의 흡연율에 대한 추이 시각화\n",
    "import matplotlib.pyplot as plt\n",
    "import koreanize_matplotlib\n",
    "\n",
    "nomal = pd.DataFrame(nd)\n",
    "gr = nomal.astype(float).plot(kind='bar',figsize=[10,5]).get_legend().remove()\n",
    "for i in range(len(nomal)):\n",
    "  value = nomal.iloc[i,0]\n",
    "plt.title('일반담배 흡연률 추이')\n",
    "plt.xticks(rotation=0)\n",
    "plt.yticks(range(0,31,5))\n",
    "plt.show()"
   ]
  },
  {
   "cell_type": "code",
   "execution_count": null,
   "metadata": {
    "colab": {
     "base_uri": "https://localhost:8080/"
    },
    "executionInfo": {
     "elapsed": 215,
     "status": "ok",
     "timestamp": 1735484968892,
     "user": {
      "displayName": "이이장헌",
      "userId": "14213878762227846915"
     },
     "user_tz": -540
    },
    "id": "80Ake52F3BLE",
    "outputId": "95200871-4ec8-4a0a-d4c9-3f75a580ff6f"
   },
   "outputs": [],
   "source": [
    "# 평균 변화율 계산해보자\n",
    "\n",
    "# 일단.. 두번째 행부터 float type으로 변경\n",
    "sec_values = nomal_data.iloc[2, 3:].astype(float)\n",
    "\n",
    "# 연도별 변화율 계산\n",
    "change_rate = sec_values.pct_change()* 100    ## pct_change : 퍼센트 변화를 의미!\n",
    "\n",
    "# 평균 변화율 계산\n",
    "average_rate = change_rate.mean()\n",
    "\n",
    "print(average_rate)"
   ]
  },
  {
   "cell_type": "code",
   "execution_count": null,
   "metadata": {
    "colab": {
     "base_uri": "https://localhost:8080/",
     "height": 210
    },
    "collapsed": true,
    "executionInfo": {
     "elapsed": 262,
     "status": "ok",
     "timestamp": 1735485870216,
     "user": {
      "displayName": "이이장헌",
      "userId": "14213878762227846915"
     },
     "user_tz": -540
    },
    "id": "-DTrNQRqAXp5",
    "outputId": "da03756d-f885-4887-d62f-1d9418f2bed1"
   },
   "outputs": [],
   "source": [
    "# 확실한 증가 추이를 보이기 위해 2014, 2017, 2020, 2022년도 데이터만 좀 뽑아오자\n",
    "\n",
    "selected_years = ['2014', '2017', '2020', '2022']\n",
    "result = ed.loc[selected_years]\n",
    "\n",
    "result"
   ]
  },
  {
   "cell_type": "code",
   "execution_count": null,
   "metadata": {
    "colab": {
     "base_uri": "https://localhost:8080/",
     "height": 467
    },
    "executionInfo": {
     "elapsed": 432,
     "status": "ok",
     "timestamp": 1735486046282,
     "user": {
      "displayName": "이이장헌",
      "userId": "14213878762227846915"
     },
     "user_tz": -540
    },
    "id": "xo2XmN1WBOmw",
    "outputId": "dfda0a79-59bb-4dd6-8a06-20635bd5b4b7"
   },
   "outputs": [],
   "source": [
    "# 추이에 대한 시각화\n",
    "\n",
    "e_cigar = pd.DataFrame(result)\n",
    "gr = e_cigar.astype(float).plot(kind='bar',figsize=[10,5]).get_legend().remove()\n",
    "for i in range(len(nomal)):\n",
    "  value = nomal.iloc[i,0]\n",
    "plt.title('전자담배(액상형) 흡연율 증감 추이')\n",
    "plt.xticks(rotation=0)\n",
    "plt.yticks(range(0,8,2))\n",
    "plt.show()"
   ]
  },
  {
   "cell_type": "code",
   "execution_count": null,
   "metadata": {
    "colab": {
     "base_uri": "https://localhost:8080/"
    },
    "executionInfo": {
     "elapsed": 222,
     "status": "ok",
     "timestamp": 1735486843907,
     "user": {
      "displayName": "이이장헌",
      "userId": "14213878762227846915"
     },
     "user_tz": -540
    },
    "id": "J9pthWt8DQr0",
    "outputId": "133eaaa1-0ecb-4137-e584-8eb870bff581"
   },
   "outputs": [],
   "source": [
    "# 마찬가지로 평균 변화율을 살펴보면,\n",
    "\n",
    "# 일단.. 두번째 행부터 float type으로 변경\n",
    "e_cigar_values = result.astype(float)\n",
    "\n",
    "# 연도별 변화율 계산\n",
    "change_rate_e = e_cigar_values.pct_change()* 100    ## pct_change : 퍼센트 변화를 의미!\n",
    "\n",
    "# 평균 변화율 계산\n",
    "average_rate_e = change_rate_e.mean()\n",
    "\n",
    "print(average_rate)"
   ]
  },
  {
   "cell_type": "code",
   "execution_count": null,
   "metadata": {
    "colab": {
     "base_uri": "https://localhost:8080/",
     "height": 466
    },
    "executionInfo": {
     "elapsed": 489,
     "status": "ok",
     "timestamp": 1735488824207,
     "user": {
      "displayName": "이이장헌",
      "userId": "14213878762227846915"
     },
     "user_tz": -540
    },
    "id": "IblWdmn6Gx6a",
    "outputId": "57ba931e-3e8a-4be3-c265-c5ba1f1672e7"
   },
   "outputs": [],
   "source": [
    "# 일단 연도를 맞추고,\n",
    "selected_years_2 = ['2013', '2014', '2017', '2020', '2022']\n",
    "nd_2 = nd.loc[selected_years_2]\n",
    "ed_2 = ed.loc[selected_years_2]\n",
    "\n",
    "# 새로운 변수를 통해 그래프 2개를 합침\n",
    "new_smoke = pd.concat([nd_2.astype(float), ed_2.astype(float)], axis = 1) # 오 엑셀 concat 같다\n",
    "\n",
    "# 증감률 추이를 보여주기 위해 diff, 그것을 누적으로 보여주기 위해 cumsum 사용\n",
    "new_smoke = new_smoke.diff(axis = 0).cumsum()\n",
    "new_smoke = new_smoke.loc[\"2014\":]        ## 2013은 빈 값이 될 것이므로\n",
    "\n",
    "# 시각화\n",
    "new_smoke.plot(kind='bar', color=['skyblue', 'red'],figsize=[7,5])\n",
    "plt.title('흡연율 증감')\n",
    "plt.legend(['일반담배', '전자담배'])\n",
    "plt.xticks(rotation=0)\n",
    "plt.yticks(range(-6,6))\n",
    "plt.show()"
   ]
  },
  {
   "cell_type": "code",
   "execution_count": null,
   "metadata": {
    "id": "53ucxIqBONDk"
   },
   "outputs": [],
   "source": [
    "# import 진행\n",
    "from selenium import webdriver\n",
    "from selenium.webdriver.common.keys import Keys\n",
    "import time\n",
    "from selenium.webdriver.common.by import By\n",
    "from selenium.webdriver.support.ui import WebDriverWait\n",
    "from selenium.webdriver.support import expected_conditions as EC\n",
    "from selenium.webdriver.common.action_chains import ActionChains"
   ]
  },
  {
   "cell_type": "code",
   "execution_count": null,
   "metadata": {
    "colab": {
     "base_uri": "https://localhost:8080/"
    },
    "collapsed": true,
    "executionInfo": {
     "elapsed": 234,
     "status": "error",
     "timestamp": 1735514412143,
     "user": {
      "displayName": "이이장헌",
      "userId": "14213878762227846915"
     },
     "user_tz": -540
    },
    "id": "WvXD7HdQtSkN",
    "outputId": "ce2f3d83-342a-491e-e932-4a5d1c9ae23f"
   },
   "outputs": [],
   "source": [
    "# selenium을 통한 동적 웹 크롤링으로 기사 정보 가지고 오기\n",
    "driver = webdriver.Chrome()\n",
    "driver.maximize_window()\n",
    "news_info = []\n",
    "for i in range(2,5):\n",
    "    url = f'https://search.naver.com/search.naver?where=news&query=%ED%9D%A1%EC%97%B0&sm=tab_opt&sort=0&photo=0&field=0&pd=3&ds=202{i}.01.01&de=202{i}.12.27&docid=&related=0&mynews=0&office_type=0&office_section_code=0&news_office_checked=&nso=so%3Ar%2Cp%3Afrom20231227to20241227&is_sug_officeid=0&office_category=0&service_area=0'\n",
    "    driver.get(url)\n",
    "    time.sleep(2)\n",
    "\n",
    "    for _ in range(120):\n",
    "        driver.execute_script(\"window.scrollTo(0, document.body.scrollHeight);\")\n",
    "        time.sleep(2)\n",
    "\n",
    "    news_list = driver.find_elements(By.CSS_SELECTOR,'#main_pack > section > div.api_subject_bx > div.group_news > ul > li')\n",
    "\n",
    "\n",
    "    for news in news_list:\n",
    "\n",
    "        try:\n",
    "            press,link = news.find_elements(By.CSS_SELECTOR,'div.info_group > a')\n",
    "            title= news.find_element(By.CSS_SELECTOR,'div.news_contents > a:nth-child(2)')\n",
    "            print(press.text, title.text,link.get_attribute('href'))\n",
    "            news_dict = {\n",
    "                'year' : f\"202{i}\",\n",
    "                'name' : press.text,\n",
    "                'link' : link.get_attribute('href'),\n",
    "                'title' : title.text\n",
    "            }\n",
    "            news_info.append(news_dict)\n",
    "        except:\n",
    "            pass\n"
   ]
  },
  {
   "cell_type": "code",
   "execution_count": null,
   "metadata": {
    "id": "7nU-QWLn0c7p"
   },
   "outputs": [],
   "source": [
    "# 판다스 활용, 크롤링 파일을 csv 파일로 변환\n",
    "data = pd.DataFrame(news_info)\n",
    "\n",
    "data.to_csv('네이버뉴스크롤링.csv')"
   ]
  },
  {
   "cell_type": "code",
   "execution_count": null,
   "metadata": {
    "colab": {
     "base_uri": "https://localhost:8080/",
     "height": 206
    },
    "executionInfo": {
     "elapsed": 289,
     "status": "ok",
     "timestamp": 1735516098278,
     "user": {
      "displayName": "이이장헌",
      "userId": "14213878762227846915"
     },
     "user_tz": -540
    },
    "id": "0c9Ho8S0uuny",
    "outputId": "fd8c8360-6e31-4e58-e84e-0fcfb2d2de47"
   },
   "outputs": [],
   "source": [
    "# 불러와서 확인\n",
    "data = pd.read_csv(\"네이버뉴스크롤링.csv\")\n",
    "\n",
    "data.head()"
   ]
  },
  {
   "cell_type": "code",
   "execution_count": null,
   "metadata": {
    "colab": {
     "base_uri": "https://localhost:8080/",
     "height": 210
    },
    "executionInfo": {
     "elapsed": 319,
     "status": "ok",
     "timestamp": 1735517552622,
     "user": {
      "displayName": "이이장헌",
      "userId": "14213878762227846915"
     },
     "user_tz": -540
    },
    "id": "4xksNDcT6A1B",
    "outputId": "5994ea54-712c-4b6b-8d3c-74f775ec4b37"
   },
   "outputs": [],
   "source": [
    "# 얼마나 검색되었을까?\n",
    "data.value_counts(\"year\")"
   ]
  },
  {
   "cell_type": "code",
   "execution_count": null,
   "metadata": {
    "colab": {
     "base_uri": "https://localhost:8080/"
    },
    "collapsed": true,
    "executionInfo": {
     "elapsed": 14127,
     "status": "ok",
     "timestamp": 1735516137322,
     "user": {
      "displayName": "이이장헌",
      "userId": "14213878762227846915"
     },
     "user_tz": -540
    },
    "id": "H0g2hU2xvyYQ",
    "outputId": "04cf2bfc-cecd-4a11-9b79-1ebf8b893923"
   },
   "outputs": [],
   "source": [
    "# 문장별 형태소 분석\n",
    "\n",
    "import re\n",
    "from konlpy.tag import Okt\n",
    "\n",
    "okt = Okt()\n",
    "\n",
    "word_list = []\n",
    "stopwords = [\"유아인\", \"대마\", \"대마초\", \"남양유업\", \"혐의\", \"손자\", \"마약\", \"프로포폴\", \"투약\", \"징역\"]            ### 흡연과 관계 없는 단어 제외\n",
    "\n",
    "i = 0\n",
    "for review in data[\"title\"].tolist():\n",
    "    print(f\"탐색할 리뷰: {review}\")\n",
    "    new_review = re.sub(\"[^0-9a-zA-Z가-힣\\\\s+]\", \"\", review)\n",
    "    new_review_pos = okt.pos(new_review, norm=True, stem=True)\n",
    "    print(f\"pos 결과: {new_review_pos}\")\n",
    "    # 한 문장에 대한 반복문\n",
    "    print(f\"review에서 조건 만족하는 단어들: \", end=\"\")\n",
    "    noun_list = []\n",
    "    verb_list = []\n",
    "    adj_list = []\n",
    "    for word, pos in new_review_pos:\n",
    "        if len(word) == 1 or word in stopwords:\n",
    "            continue\n",
    "        if pos == \"Noun\":\n",
    "            print(word, end=\" \")\n",
    "            noun_list.append(word)\n",
    "        elif pos == \"Verb\":\n",
    "            print(word, end=\" \")\n",
    "            verb_list.append(word)\n",
    "        elif pos == \"Adjective\":\n",
    "            print(word, end=\" \")\n",
    "            adj_list.append(word)\n",
    "    sub_dict = {\"Noun\": \" \".join(noun_list), \"Verb\": \" \".join(verb_list), \"Adjective\": \" \".join(adj_list)}          ### 명사, 동사, 형용사로 쪼개어 분석\n",
    "\n",
    "    word_list.append(sub_dict)\n",
    "    print()\n",
    "    print(\"=\"*100)"
   ]
  },
  {
   "cell_type": "code",
   "execution_count": null,
   "metadata": {
    "colab": {
     "base_uri": "https://localhost:8080/",
     "height": 293
    },
    "executionInfo": {
     "elapsed": 282,
     "status": "ok",
     "timestamp": 1735516143576,
     "user": {
      "displayName": "이이장헌",
      "userId": "14213878762227846915"
     },
     "user_tz": -540
    },
    "id": "bd68_T9ywxeE",
    "outputId": "63787e6a-73e4-4338-889d-494d954c28d3"
   },
   "outputs": [],
   "source": [
    "# 위의 형태소 분석을 기반으로 일단 데이터 프레임 만들기\n",
    "\n",
    "new_data = pd.concat([data, pd.DataFrame(word_list)], axis=1)\n",
    "new_data.head()"
   ]
  },
  {
   "cell_type": "code",
   "execution_count": null,
   "metadata": {
    "colab": {
     "base_uri": "https://localhost:8080/",
     "height": 597
    },
    "executionInfo": {
     "elapsed": 264,
     "status": "ok",
     "timestamp": 1735516149237,
     "user": {
      "displayName": "이이장헌",
      "userId": "14213878762227846915"
     },
     "user_tz": -540
    },
    "id": "5AKuHwpGxCjK",
    "outputId": "ac935950-b8a5-4175-c273-8225f3bdc976"
   },
   "outputs": [],
   "source": [
    "# 전체를 보기 위하여 'total'이라는 새 coulmns 추가\n",
    "\n",
    "new_data[\"total\"] = new_data[\"Noun\"] + \" \" + new_data[\"Verb\"] + \" \" + new_data[\"Adjective\"]\n",
    "new_data"
   ]
  },
  {
   "cell_type": "code",
   "execution_count": null,
   "metadata": {
    "id": "iN3er8DGxMOJ"
   },
   "outputs": [],
   "source": [
    "# 형태소 분석에 대해 따로 정리\n",
    "new_data.to_csv('네이버뉴스크롤링_형태소분석.csv',index=False)"
   ]
  },
  {
   "cell_type": "code",
   "execution_count": null,
   "metadata": {
    "colab": {
     "base_uri": "https://localhost:8080/"
    },
    "executionInfo": {
     "elapsed": 242,
     "status": "ok",
     "timestamp": 1735515785801,
     "user": {
      "displayName": "이이장헌",
      "userId": "14213878762227846915"
     },
     "user_tz": -540
    },
    "id": "BRAmyNNIxzN5",
    "outputId": "7e28912b-9944-43ac-c4c4-a7535a8d99f1"
   },
   "outputs": [],
   "source": [
    "# 내가 가지고 있는 폰트 목록 확인하기\n",
    "from matplotlib import font_manager\n",
    "\n",
    "search_font = \"gothic\"    # 필터\n",
    "\n",
    "for font in font_manager.findSystemFonts():\n",
    "  font_info = font_manager.FontProperties(fname=font)\n",
    "  font_name = font_info.get_name()\n",
    "  font_path = font_info.get_file()\n",
    "  if search_font in font_name.lower():\n",
    "    print(font_name, font_path)"
   ]
  },
  {
   "cell_type": "code",
   "execution_count": null,
   "metadata": {
    "colab": {
     "base_uri": "https://localhost:8080/"
    },
    "executionInfo": {
     "elapsed": 428,
     "status": "ok",
     "timestamp": 1735516434502,
     "user": {
      "displayName": "이이장헌",
      "userId": "14213878762227846915"
     },
     "user_tz": -540
    },
    "id": "EsFRklfQxdtu",
    "outputId": "6594aa5f-eb4c-4068-b50c-2344aaab5c10"
   },
   "outputs": [],
   "source": [
    "# 폰트 등록하기\n",
    "from matplotlib import font_manager\n",
    "\n",
    "## 폰트 경로\n",
    "font_path = \"/usr/share/fonts/truetype/nanum/NanumBarunGothicBold.ttf\"\n",
    "## 폰트 추가\n",
    "font_manager.fontManager.addfont(font_path)\n",
    "## 폰트 이름 확인\n",
    "font_name = font_manager.FontProperties(fname=font_path).get_name()\n",
    "print(font_name)"
   ]
  },
  {
   "cell_type": "code",
   "execution_count": null,
   "metadata": {
    "id": "U8zNNzVCx7qS"
   },
   "outputs": [],
   "source": [
    "import matplotlib.pyplot as plt     # 시각화를 위한 ㅎㅎ\n",
    "# 폰트 설정하기\n",
    "font_name = \"NanumBarunGothic\"\n",
    "plt.rcParams[\"font.family\"] = font_name"
   ]
  },
  {
   "cell_type": "markdown",
   "metadata": {
    "id": "RdC4hsVMyLck"
   },
   "source": [
    "##### 본격 워드 클라우드"
   ]
  },
  {
   "cell_type": "code",
   "execution_count": null,
   "metadata": {
    "colab": {
     "base_uri": "https://localhost:8080/",
     "height": 344
    },
    "executionInfo": {
     "elapsed": 1678,
     "status": "ok",
     "timestamp": 1735516446299,
     "user": {
      "displayName": "이이장헌",
      "userId": "14213878762227846915"
     },
     "user_tz": -540
    },
    "id": "MrTQl78pyEfr",
    "outputId": "387f4d3f-fc40-4136-c550-cb182dba79c8"
   },
   "outputs": [],
   "source": [
    "# 연도별 워드 클라우드 그리기(명사), 22년 먼저\n",
    "from collections import Counter\n",
    "from wordcloud import WordCloud     # 워드 클라우드\n",
    "import matplotlib.pyplot as plt     # 시각화\n",
    "\n",
    "year = 2022\n",
    "\n",
    "noun_list = []\n",
    "for noun in new_data.loc[new_data[\"year\"] == year, \"Noun\"]:\n",
    "    noun_list.extend(noun.split(\" \"))\n",
    "print(noun_list)\n",
    "\n",
    "counter_22 = dict(Counter(noun_list).most_common(50))\n",
    "wordcloud = WordCloud(\n",
    "    font_path = \"C:/Windows/Fonts/NanumBarunGothic.ttf\"\n",
    ").generate_from_frequencies(counter_22)\n",
    "\n",
    "plt.imshow(wordcloud)\n",
    "plt.title(f\"{year} 워드클라우드\")\n",
    "plt.axis(\"off\")\n",
    "plt.show()"
   ]
  },
  {
   "cell_type": "code",
   "execution_count": null,
   "metadata": {
    "colab": {
     "base_uri": "https://localhost:8080/",
     "height": 344
    },
    "executionInfo": {
     "elapsed": 1201,
     "status": "ok",
     "timestamp": 1735516623513,
     "user": {
      "displayName": "이이장헌",
      "userId": "14213878762227846915"
     },
     "user_tz": -540
    },
    "id": "LybxpXXc14z1",
    "outputId": "710c86cd-3433-436b-a0ae-2b8dbbed70f4"
   },
   "outputs": [],
   "source": [
    "# 연도별 워드 클라우드 그리기(명사) - 2023년\n",
    "from collections import Counter\n",
    "from wordcloud import WordCloud     # 워드 클라우드\n",
    "import matplotlib.pyplot as plt     # 시각화\n",
    "\n",
    "year = 2023\n",
    "\n",
    "noun_list = []\n",
    "for noun in new_data.loc[new_data[\"year\"] == year, \"Noun\"]:\n",
    "    noun_list.extend(noun.split(\" \"))\n",
    "print(noun_list)\n",
    "\n",
    "counter_23 = dict(Counter(noun_list).most_common(50))\n",
    "wordcloud = WordCloud(\n",
    "    font_path = \"C:/Windows/Fonts/NanumBarunGothic.ttf\"\n",
    ").generate_from_frequencies(counter_22)\n",
    "\n",
    "plt.imshow(wordcloud)\n",
    "plt.title(f\"{year} 워드클라우드\")\n",
    "plt.axis(\"off\")\n",
    "plt.show()"
   ]
  },
  {
   "cell_type": "code",
   "execution_count": null,
   "metadata": {
    "colab": {
     "base_uri": "https://localhost:8080/",
     "height": 344
    },
    "executionInfo": {
     "elapsed": 900,
     "status": "ok",
     "timestamp": 1735516625222,
     "user": {
      "displayName": "이이장헌",
      "userId": "14213878762227846915"
     },
     "user_tz": -540
    },
    "id": "3Aqj2F9U2EVF",
    "outputId": "3f6c26dc-e534-413e-a23f-da871af09f2d"
   },
   "outputs": [],
   "source": [
    "# 연도별 워드 클라우드 그리기(명사) - 2024년\n",
    "from collections import Counter\n",
    "from wordcloud import WordCloud     # 워드 클라우드\n",
    "import matplotlib.pyplot as plt     # 시각화\n",
    "\n",
    "year = 2024\n",
    "\n",
    "noun_list = []\n",
    "for noun in new_data.loc[new_data[\"year\"] == year, \"Noun\"]:\n",
    "    noun_list.extend(noun.split(\" \"))\n",
    "print(noun_list)\n",
    "\n",
    "counter_24 = dict(Counter(noun_list).most_common(50))\n",
    "wordcloud = WordCloud(\n",
    "    font_path = \"C:/Windows/Fonts/NanumBarunGothic.ttf\"\n",
    ").generate_from_frequencies(counter_22)\n",
    "\n",
    "plt.imshow(wordcloud)\n",
    "plt.title(f\"{year} 워드클라우드\")\n",
    "plt.axis(\"off\")\n",
    "plt.show()"
   ]
  },
  {
   "cell_type": "code",
   "execution_count": null,
   "metadata": {
    "colab": {
     "base_uri": "https://localhost:8080/"
    },
    "executionInfo": {
     "elapsed": 264,
     "status": "ok",
     "timestamp": 1735516626558,
     "user": {
      "displayName": "이이장헌",
      "userId": "14213878762227846915"
     },
     "user_tz": -540
    },
    "id": "nkQkGLDP2G6M",
    "outputId": "afe747ca-f384-4862-ae8a-2562c991b0ef"
   },
   "outputs": [],
   "source": [
    "# 위의 워드 클라우드에서 공통 명사를 추출\n",
    "\n",
    "common_nouns = set(counter_22.keys()) & set(counter_23.keys()) & set(counter_24.keys())\n",
    "common_nouns"
   ]
  },
  {
   "cell_type": "code",
   "execution_count": null,
   "metadata": {
    "colab": {
     "base_uri": "https://localhost:8080/",
     "height": 632
    },
    "collapsed": true,
    "executionInfo": {
     "elapsed": 311,
     "status": "ok",
     "timestamp": 1735519406895,
     "user": {
      "displayName": "이이장헌",
      "userId": "14213878762227846915"
     },
     "user_tz": -540
    },
    "id": "tn3K1RyG7P6h",
    "outputId": "fe8a6b99-35ac-4ee8-da99-7fd006e6cbfa"
   },
   "outputs": [],
   "source": [
    "# 데이터 불러오기\n",
    "data = pd.read_csv(\"네이버뉴스크롤링_전자담배_형태소분석.csv\")\n",
    "\n",
    "data"
   ]
  },
  {
   "cell_type": "code",
   "execution_count": null,
   "metadata": {
    "colab": {
     "base_uri": "https://localhost:8080/",
     "height": 344
    },
    "executionInfo": {
     "elapsed": 1190,
     "status": "ok",
     "timestamp": 1735519310565,
     "user": {
      "displayName": "이이장헌",
      "userId": "14213878762227846915"
     },
     "user_tz": -540
    },
    "id": "EV_D0U7d24EY",
    "outputId": "4eb86c7b-5097-4432-9d13-b31519352575"
   },
   "outputs": [],
   "source": [
    "# 연도별 워드 클라우드 그리기(전체) - 2022년\n",
    "\n",
    "year = 2022\n",
    "\n",
    "noun_list = []\n",
    "for noun in data.loc[data[\"year\"] == year, \"total\"]:\n",
    "    noun_list.extend(noun.split(\" \"))\n",
    "print(noun_list)\n",
    "\n",
    "counter_22 = dict(Counter(noun_list).most_common(50))\n",
    "wordcloud = WordCloud(\n",
    "    font_path = \"C:/Windows/Fonts/NanumBarunGothic.ttf\"\n",
    ").generate_from_frequencies(counter_22)\n",
    "\n",
    "plt.imshow(wordcloud)\n",
    "plt.title(f\"{year} 워드클라우드\")\n",
    "plt.axis(\"off\")\n",
    "plt.show()"
   ]
  },
  {
   "cell_type": "code",
   "execution_count": null,
   "metadata": {
    "colab": {
     "base_uri": "https://localhost:8080/",
     "height": 344
    },
    "executionInfo": {
     "elapsed": 1867,
     "status": "ok",
     "timestamp": 1735519314981,
     "user": {
      "displayName": "이이장헌",
      "userId": "14213878762227846915"
     },
     "user_tz": -540
    },
    "id": "5JgTVopL3J0J",
    "outputId": "37cf393d-d371-4eb1-ce73-5daad9480b57"
   },
   "outputs": [],
   "source": [
    "# 연도별 워드 클라우드 그리기(전체) - 2023년\n",
    "\n",
    "year = 2023\n",
    "\n",
    "noun_list = []\n",
    "for noun in data.loc[data[\"year\"] == year, \"total\"]:\n",
    "    if isinstance(noun, str):\n",
    "      noun_list.extend(noun.split())\n",
    "print(noun_list)\n",
    "\n",
    "counter_23 = dict(Counter(noun_list).most_common(50))\n",
    "wordcloud = WordCloud(\n",
    "    font_path = \"C:/Windows/Fonts/NanumBarunGothic.ttf\"\n",
    ").generate_from_frequencies(counter_23)\n",
    "\n",
    "plt.imshow(wordcloud)\n",
    "plt.title(f\"{year} 워드클라우드\")\n",
    "plt.axis(\"off\")\n",
    "plt.show()"
   ]
  },
  {
   "cell_type": "code",
   "execution_count": null,
   "metadata": {
    "colab": {
     "base_uri": "https://localhost:8080/",
     "height": 344
    },
    "executionInfo": {
     "elapsed": 1361,
     "status": "ok",
     "timestamp": 1735519680192,
     "user": {
      "displayName": "이이장헌",
      "userId": "14213878762227846915"
     },
     "user_tz": -540
    },
    "id": "TI-LJYRT3QVY",
    "outputId": "dfb8d7a0-7dfd-4c35-d5e8-af3fe0249671"
   },
   "outputs": [],
   "source": [
    "# 연도별 워드 클라우드 그리기(전체)\n",
    "\n",
    "year = 2024\n",
    "\n",
    "noun_list = []\n",
    "for noun in data.loc[data[\"year\"] == year, \"total\"]:\n",
    "    if isinstance(noun, str):\n",
    "      noun_list.extend(noun.split())\n",
    "print(noun_list)\n",
    "\n",
    "counter_24 = dict(Counter(noun_list).most_common(50))\n",
    "wordcloud = WordCloud(\n",
    "    font_path = \"C:/Windows/Fonts/NanumBarunGothic.ttf\"\n",
    ").generate_from_frequencies(counter_24)\n",
    "\n",
    "plt.imshow(wordcloud)\n",
    "plt.title(f\"{year} 워드클라우드\")\n",
    "plt.axis(\"off\")\n",
    "plt.show()"
   ]
  },
  {
   "cell_type": "code",
   "execution_count": null,
   "metadata": {
    "colab": {
     "base_uri": "https://localhost:8080/"
    },
    "executionInfo": {
     "elapsed": 310,
     "status": "ok",
     "timestamp": 1735519684176,
     "user": {
      "displayName": "이이장헌",
      "userId": "14213878762227846915"
     },
     "user_tz": -540
    },
    "id": "Eq5HzZ7T3VMX",
    "outputId": "a4087736-9891-4b58-aa02-46855f81ca28"
   },
   "outputs": [],
   "source": [
    "# 마찬가지로 공통 단어 뽑아보기\n",
    "\n",
    "common_nouns = set(counter_22.keys()) & set(counter_23.keys()) & set(counter_24.keys())\n",
    "common_nouns"
   ]
  },
  {
   "cell_type": "code",
   "execution_count": null,
   "metadata": {
    "id": "Nn2A3jtaJkyv"
   },
   "outputs": [],
   "source": [
    "from apyori import apriori\n",
    "import itertools\n",
    "import numpy as np\n",
    "import matplotlib.pyplot as plt\n",
    "import networkx as nx"
   ]
  },
  {
   "cell_type": "code",
   "execution_count": null,
   "metadata": {
    "id": "kkZRym4EFAH3"
   },
   "outputs": [],
   "source": [
    "# 데이터 불러오기\n",
    "\n",
    "wc = pd.read_csv('keyword_전자담배.csv', index_col=0).dropna().reset_index(drop=True)\n",
    "okt = Okt()\n",
    "# desc = wc['description']\n",
    "title = wc['title']\n",
    "stopwords = ['대구시', '상형', '하중', '의원']          ### 쓸모없는 단어 방출 ㅎ\n",
    "\n",
    "def divied(array):\n",
    "    word_list = []\n",
    "    for review in array.tolist():\n",
    "        edit_review = re.sub('[^0-9a-zA-Z가-힣\\\\s+-]', '', review)\n",
    "        edit_review_pos = okt.pos(edit_review)\n",
    "        sub_list = []\n",
    "\n",
    "        for word, pos in edit_review_pos:\n",
    "            if len(word) < 2 or word in stopwords:\n",
    "                continue\n",
    "            elif pos ==\"Noun\":\n",
    "                sub_list.append(word)\n",
    "        word_list.append(sub_list)\n",
    "    return word_list"
   ]
  },
  {
   "cell_type": "code",
   "execution_count": null,
   "metadata": {
    "id": "B2YMcpf9J1PQ"
   },
   "outputs": [],
   "source": [
    "nsize = None\n",
    "\n",
    "def ori(array):\n",
    "    # 연관된 단어들을 추출\n",
    "    result = list(apriori(divied(array)))\n",
    "    new_data = pd.DataFrame(result)\n",
    "    return new_data.sort_values(by='support', ascending=False)"
   ]
  },
  {
   "cell_type": "code",
   "execution_count": null,
   "metadata": {
    "colab": {
     "base_uri": "https://localhost:8080/",
     "height": 556
    },
    "executionInfo": {
     "elapsed": 781,
     "status": "ok",
     "timestamp": 1735521762843,
     "user": {
      "displayName": "이이장헌",
      "userId": "14213878762227846915"
     },
     "user_tz": -540
    },
    "id": "K4ylx23FFUOh",
    "outputId": "c89db3b9-b401-4bd6-b5f9-17fd914ed221"
   },
   "outputs": [],
   "source": [
    "def net(array):\n",
    "    data = ori(array)  # 문제발생\n",
    "    lengths = []\n",
    "\n",
    "    for item in data['items'].tolist():  # item 항목이 2개 미만을 거르는 작업\n",
    "        lengths.append(len(item))\n",
    "    data['length'] = lengths\n",
    "    new_data2 = data[data['length']>1]\n",
    "\n",
    "    plt.rc('font', family = 'NanumBarunGothic')\n",
    "\n",
    "    G = nx.Graph()\n",
    "    word_combi = []\n",
    "    for item in new_data2['items'].tolist(): #연관된 단어들을 2개씩 조합하여 리스트에 저장\n",
    "        word_combi.extend(itertools.combinations(item, 2))\n",
    "    G.add_edges_from(word_combi) # 네트워크 그래프에 간선을 추가\n",
    "\n",
    "    pr = nx.pagerank(G) # pagerank를 사용하여 노드의 중요도를 계산하여 딕셔너리 형태로 저장\n",
    "    nsize = np.array(list(pr.values()))\n",
    "    nsize = 2000* (nsize - min(nsize)) / (max(nsize) - min(nsize)) # 노드 크기\n",
    "\n",
    "    lay = nx.kamada_kawai_layout(G) # 노드간 간선을 시각적으로 균형있게 배치치\n",
    "    nx.draw(G, lay, node_size = nsize, with_labels=True, font_size = 10, font_family = 'NanumGothic')\n",
    "    plt.title('담배 네트워크')\n",
    "    plt.show\n",
    "\n",
    "    return None\n",
    "\n",
    "print(net(title))"
   ]
  },
  {
   "cell_type": "code",
   "execution_count": null,
   "metadata": {
    "colab": {
     "base_uri": "https://localhost:8080/",
     "height": 471
    },
    "executionInfo": {
     "elapsed": 299,
     "status": "ok",
     "timestamp": 1735519851290,
     "user": {
      "displayName": "이이장헌",
      "userId": "14213878762227846915"
     },
     "user_tz": -540
    },
    "id": "3UbQD6JE_aQ7",
    "outputId": "d74540ff-a205-4827-86ec-7419aaa3303c"
   },
   "outputs": [],
   "source": [
    "# 연도별 구매루트 비율\n",
    "route = pd.read_csv('전자담배구매루트.csv',index_col=0).dropna().reset_index(drop=True)\n",
    "route.iloc[:,3][2]\n",
    "\n",
    "# 루트별 구입비중 구하기기\n",
    "df = []\n",
    "for i in range(len(route.columns)):\n",
    "    if route.iloc[:,i][2] == \"구입한 적 있음\":\n",
    "        df.append(route.iloc[:,i][0:4:3])\n",
    "df = pd.DataFrame(df)\n",
    "\n",
    "\n",
    "market = df.iloc[:,1][0::4].astype(float)\n",
    "store = df.iloc[:,1][1::4].astype(float)\n",
    "pc = df.iloc[:,1][2::4].astype(float)\n",
    "internet = df.iloc[:,1][3::4].astype(float)\n",
    "\n",
    "import numpy as np\n",
    "\n",
    "arr = np.arange(2016,2021,2) # y축값 저장장\n",
    "w = 0.3\n",
    "plt.bar(arr-w,market,width=0.3, alpha=0.5, color='blue', label='편의점')\n",
    "plt.bar(arr,store,width=0.3, alpha=0.5, color='orange', label='전자담배판매점')\n",
    "plt.bar(arr+w,pc,width=0.3, alpha=0.5, color='green',label='pc방 노래방')\n",
    "plt.bar(arr+w+w,internet,width=0.3, alpha=0.5, color='red', label='인터넷')\n",
    "plt.xticks(range(2016,2021,2))\n",
    "# plt.Subplots(figsize=[12,6])\n",
    "plt.legend()\n",
    "plt.title('전자담배 구매루트 추이')"
   ]
  },
  {
   "cell_type": "code",
   "execution_count": null,
   "metadata": {
    "colab": {
     "base_uri": "https://localhost:8080/",
     "height": 175
    },
    "executionInfo": {
     "elapsed": 254,
     "status": "ok",
     "timestamp": 1735522241689,
     "user": {
      "displayName": "이이장헌",
      "userId": "14213878762227846915"
     },
     "user_tz": -540
    },
    "id": "KfF5g28XLfc8",
    "outputId": "4c3bf1db-5765-46f8-b2be-a2664bcc55e7"
   },
   "outputs": [],
   "source": [
    "import numpy as np\n",
    "import pandas as pd\n",
    "\n",
    "data = pd.DataFrame({\n",
    "    \"온라인 쇼핑몰\": [\"네이버\", \"지마켓\", \"11번가\", \"옥션\"],        ## 인터넷 쇼핑 대표 도메인으로 설정\n",
    "    \"검색 결과\": [69833, 19745, 12687, 10432]                       ## 실제 검색되는 수를 바탕으로 만듦\n",
    "})\n",
    "data"
   ]
  },
  {
   "cell_type": "code",
   "execution_count": null,
   "metadata": {
    "colab": {
     "base_uri": "https://localhost:8080/",
     "height": 507
    },
    "executionInfo": {
     "elapsed": 1152,
     "status": "ok",
     "timestamp": 1735522308432,
     "user": {
      "displayName": "이이장헌",
      "userId": "14213878762227846915"
     },
     "user_tz": -540
    },
    "id": "VVts3q-0LvBy",
    "outputId": "03338cd5-f226-4514-8d2c-6b4c0e5c6665"
   },
   "outputs": [],
   "source": [
    "# 위의 데이터프레임을 바탕으로 시각화 진행\n",
    "\n",
    "fig, ax = plt.subplots(figsize=(8, 5))  # Axes 객체 생성\n",
    "bars = ax.bar(data[\"온라인 쇼핑몰\"], data[\"검색 결과\"], zorder=2,color=['red','blue', 'green', 'yellow'])\n",
    "\n",
    "#plt.figure(figsize=(8, 5))  # 차트 크기 설정\n",
    "#plt.bar(data[\"온라인 쇼핑몰\"], data[\"검색 결과\"], zorder=2)\n",
    "\n",
    "#격자 만들기\n",
    "plt.grid(axis='y', linestyle='--', alpha=0.5, zorder=1)\n",
    "\n",
    "# 라벨 달아주기\n",
    "plt.title(\"온라인 쇼핑 플랫폼 별 검색 결과 건수\", fontsize = 16)\n",
    "plt.xlabel(\"온라인 쇼핑 플랫폼\", fontsize = 12)\n",
    "plt.ylabel(\"'전자담배' 검색 시 결과 수\", fontsize = 12)\n",
    "\n",
    "# Y축 값 표시\n",
    "ax.bar_label(bars, labels=[f'{v:,}' for v in data[\"검색 결과\"]], fontsize=10, padding=3)\n",
    "plt.yticks(range(0,100001,10000))\n",
    "plt.tight_layout()\n",
    "plt.show()\n",
    "\n",
    "#최종 업데이트 : 자료 기준 24.12.27 플랫폼 검색 기준 (중고, 해외, 렌탈 제외 )"
   ]
  }
 ],
 "metadata": {
  "colab": {
   "authorship_tag": "ABX9TyPHa1JU3nnRLcUG2sjGUNjp",
   "mount_file_id": "11ypwL5Ry3GSWagA-R23E4rRazfIlxFNL",
   "provenance": []
  },
  "kernelspec": {
   "display_name": "Python 3",
   "name": "python3"
  },
  "language_info": {
   "name": "python"
  }
 },
 "nbformat": 4,
 "nbformat_minor": 0
}
