{
 "cells": [
  {
   "cell_type": "code",
   "execution_count": null,
   "metadata": {},
   "outputs": [],
   "source": [
    "from ultralytics import YOLO\n",
    "import shutil\n",
    "import os"
   ]
  },
  {
   "cell_type": "code",
   "execution_count": 16,
   "metadata": {},
   "outputs": [],
   "source": [
    "def training(date,thema,model):\n",
    "    model = YOLO(f'./{model}')\n",
    "    # work_path = f'../../../Test/Deep_Learning/model/{thema}'\n",
    "    # os.chdir(work_path)\n",
    "\n",
    "    yaml_path = f\"../../../Test/Deep_Learning/data/{thema}/data.yaml\"\n",
    "\n",
    "    model.train(\n",
    "        data = yaml_path,\n",
    "        epochs=30,\n",
    "        imgsz=1280,\n",
    "        batch=8,\n",
    "        name = f'result_{date}',\n",
    "        save_dir=f'./result_{date}'\n",
    "    )\n",
    "\n",
    "    return model"
   ]
  },
  {
   "cell_type": "code",
   "execution_count": null,
   "metadata": {},
   "outputs": [],
   "source": []
  }
 ],
 "metadata": {
  "kernelspec": {
   "display_name": "env311_cu121",
   "language": "python",
   "name": "python3"
  },
  "language_info": {
   "codemirror_mode": {
    "name": "ipython",
    "version": 3
   },
   "file_extension": ".py",
   "mimetype": "text/x-python",
   "name": "python",
   "nbconvert_exporter": "python",
   "pygments_lexer": "ipython3",
   "version": "3.11.11"
  }
 },
 "nbformat": 4,
 "nbformat_minor": 2
}
